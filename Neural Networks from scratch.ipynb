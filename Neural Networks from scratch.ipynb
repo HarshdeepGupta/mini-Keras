{
 "cells": [
  {
   "cell_type": "code",
   "execution_count": 1,
   "metadata": {
    "collapsed": false
   },
   "outputs": [],
   "source": [
    "# do the imports\n",
    "import numpy as np\n",
    "import pickle\n",
    "import matplotlib.pyplot as plt\n",
    "import seaborn as sns\n",
    "from pylab import rcParams\n",
    "from sklearn import preprocessing\n",
    "\n",
    "# from preprocessing import *\n",
    "# from math_utils import *\n",
    "# from plotting import *\n",
    "\n",
    "%matplotlib inline\n",
    "sns.set(style='whitegrid', palette='muted', font_scale=1.5)\n",
    "rcParams['figure.figsize'] = 12, 6\n",
    "RANDOM_SEED = 7\n",
    "np.random.seed(RANDOM_SEED)\n",
    "\n",
    "from Sequential import Sequential\n",
    "from Layer import Layer\n",
    "from metrics import accuracy\n"
   ]
  },
  {
   "cell_type": "code",
   "execution_count": 2,
   "metadata": {
    "collapsed": false
   },
   "outputs": [],
   "source": [
    "# load the data\n",
    "# X_train, Y_train, X_test, Y_test\n",
    "with open('data/X_train.pkl', 'rb') as f:\n",
    "   X_train = pickle.load(f)\n",
    "with open('data/X_test.pkl', 'rb') as f:\n",
    "   X_test = pickle.load(f)\n",
    "with open('data/Y_train.pkl', 'rb') as f:\n",
    "   Y_train = pickle.load(f)\n",
    "with open('data/Y_test.pkl', 'rb') as f:\n",
    "   Y_test = pickle.load(f)\n",
    "# convert to floating values and normalize\n",
    "X_train = np.asfarray(X_train)\n",
    "X_test = np.asfarray(X_test)\n",
    "\n",
    "X_train /= 127.5\n",
    "X_train -= 1\n",
    "X_test /= 127.5\n",
    "X_test -= 1"
   ]
  },
  {
   "cell_type": "code",
   "execution_count": 3,
   "metadata": {
    "collapsed": false
   },
   "outputs": [],
   "source": [
    "# one hot encode the class labels for classification\n",
    "lb = preprocessing.LabelBinarizer()\n",
    "lb.fit(Y_train)\n",
    "Y_train_encoded = lb.transform(Y_train)\n",
    "Y_test_encoded = lb.transform(Y_test)"
   ]
  },
  {
   "cell_type": "code",
   "execution_count": 4,
   "metadata": {
    "collapsed": false
   },
   "outputs": [],
   "source": [
    "# define the model architecture for the shallow network\n",
    "input_size = len(X_train[0])\n",
    "hidden_layer_size = 200\n",
    "output_size = len(Y_train_encoded[0])\n"
   ]
  },
  {
   "cell_type": "code",
   "execution_count": 12,
   "metadata": {
    "collapsed": false
   },
   "outputs": [
    {
     "name": "stdout",
     "output_type": "stream",
     "text": [
      "0.7964583333333334\n",
      "0.8054166666666667\n",
      "0.8095833333333333\n",
      "0.8122916666666666\n",
      "0.8172916666666666\n",
      "0.8385416666666666\n",
      "0.84\n",
      "0.8460416666666667\n",
      "0.8422916666666667\n",
      "0.8420833333333333\n",
      "0.8510416666666667\n",
      "0.8529166666666667\n",
      "0.8504166666666667\n",
      "0.8547916666666666\n",
      "0.8589583333333334\n",
      "0.853125\n",
      "0.8558333333333333\n",
      "0.86\n",
      "0.8535416666666666\n",
      "0.8535416666666666\n",
      "0.85625\n",
      "0.8552083333333333\n",
      "0.856875\n",
      "0.85375\n",
      "0.856875\n",
      "0.8575\n",
      "0.8579166666666667\n",
      "0.8577083333333333\n",
      "0.8577083333333333\n",
      "0.8575\n",
      "0.8575\n",
      "0.8575\n",
      "0.8575\n",
      "0.8575\n",
      "0.8575\n",
      "0.8575\n",
      "0.8575\n",
      "0.8575\n",
      "0.8575\n",
      "0.8575\n",
      "0.8575\n",
      "0.8575\n",
      "0.8575\n",
      "0.8575\n",
      "0.8575\n",
      "0.8575\n",
      "0.8575\n",
      "0.8575\n",
      "0.8575\n",
      "0.8575\n"
     ]
    }
   ],
   "source": [
    "# define the model\n",
    "model = Sequential();\n",
    "model.add(Layer(size=input_size))\n",
    "model.add(Layer(size=hidden_layer_size, activation = 'relu'))\n",
    "model.add(Layer(size=hidden_layer_size, activation = 'relu'))\n",
    "model.add(Layer(size=hidden_layer_size, activation = 'relu'))\n",
    "model.add(Layer(size= output_size, activation='softmax'))\n",
    "# model.summary()\n",
    "\n",
    "model.compile(learning_rate=0.001)\n",
    "\n",
    "epochs = 50\n",
    "batch_size = 10\n",
    "test_error = []\n",
    "# train the model\n",
    "for _ in range(epochs):\n",
    "    for iteration in range(int(len(Y_test_encoded)/batch_size)):    \n",
    "        begin_index = iteration*batch_size\n",
    "        end_index = iteration*batch_size + batch_size\n",
    "        X_train_batch = X_train[begin_index: end_index]\n",
    "        Y_train_batch = Y_train_encoded[begin_index: end_index]\n",
    "        model.fit(x = X_train_batch, targets=Y_train_batch,iterations= 1)\n",
    "        \n",
    "    print(model.score(X_test,Y_test_encoded))"
   ]
  },
  {
   "cell_type": "code",
   "execution_count": 6,
   "metadata": {
    "collapsed": false
   },
   "outputs": [],
   "source": [
    "def show_image(array):\n",
    "    first_image = array\n",
    "    pixels = first_image.reshape((28, 28))\n",
    "    plt.imshow(pixels, cmap='gray')\n",
    "    plt.show()"
   ]
  },
  {
   "cell_type": "code",
   "execution_count": 13,
   "metadata": {
    "collapsed": false
   },
   "outputs": [
    {
     "name": "stdout",
     "output_type": "stream",
     "text": [
      "[[3.78049380e-136 1.31839597e-260 4.23905094e-292 1.00000000e+000\n",
      "  1.82066927e-277 0.00000000e+000]]\n",
      "[[1.60410687e-300 1.11461210e-319 7.59518275e-276 1.06118906e-289\n",
      "  1.00000000e+000 0.00000000e+000]]\n"
     ]
    }
   ],
   "source": [
    "print(model.predict(X_train[0]))\n",
    "print(model.predict(X_train[7]))\n",
    "# print(model.predict(X_train[2]))\n",
    "# print(model.predict(X_train[3]))\n",
    "# print(model.predict(X_train[4]))\n",
    "# print(model.predict(X_train[5]))\n",
    "# show_image(X_train[0])\n",
    "# show_image(X_train[1])\n",
    "# show_image(X_train[2])"
   ]
  },
  {
   "cell_type": "code",
   "execution_count": null,
   "metadata": {
    "collapsed": true
   },
   "outputs": [],
   "source": []
  }
 ],
 "metadata": {
  "anaconda-cloud": {},
  "kernelspec": {
   "display_name": "Python [default]",
   "language": "python",
   "name": "python3"
  },
  "language_info": {
   "codemirror_mode": {
    "name": "ipython",
    "version": 3
   },
   "file_extension": ".py",
   "mimetype": "text/x-python",
   "name": "python",
   "nbconvert_exporter": "python",
   "pygments_lexer": "ipython3",
   "version": "3.5.2"
  }
 },
 "nbformat": 4,
 "nbformat_minor": 1
}
